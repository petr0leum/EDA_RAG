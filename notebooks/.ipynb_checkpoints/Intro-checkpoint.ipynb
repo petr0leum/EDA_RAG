{
 "cells": [
  {
   "cell_type": "code",
   "execution_count": 4,
   "id": "44f9369b-757a-4e7f-a4a1-3936c74e5440",
   "metadata": {},
   "outputs": [],
   "source": [
    "# !pip install openai langchain huggingface_hub langchain-openai langchain-community transformers -q"
   ]
  },
  {
   "cell_type": "code",
   "execution_count": 1,
   "id": "c3868a0a-0866-46e5-ad73-95024c0a0576",
   "metadata": {},
   "outputs": [],
   "source": [
    "import os\n",
    "import warnings\n",
    "from getpass import getpass\n",
    "\n",
    "warnings.filterwarnings(\"ignore\")"
   ]
  },
  {
   "cell_type": "code",
   "execution_count": 8,
   "id": "6609dd5a-1010-4bb4-ace3-545e76586355",
   "metadata": {},
   "outputs": [
    {
     "name": "stdin",
     "output_type": "stream",
     "text": [
      "Введите ваш OpenAI API-ключ ········\n"
     ]
    }
   ],
   "source": [
    "openai_api_key = getpass(prompt=\"Введите ваш OpenAI API-ключ\")\n",
    "os.environ[\"OPENAI_API_KEY\"] = openai_api_key"
   ]
  },
  {
   "cell_type": "code",
   "execution_count": 12,
   "id": "e8fb2e19-e3cd-4cd8-9bba-9904a4e4496a",
   "metadata": {},
   "outputs": [],
   "source": [
    "import openai\n",
    "from openai import OpenAI\n",
    "\n",
    "openai.api_key = openai_api_key\n",
    "\n",
    "client = OpenAI(\n",
    "    api_key=openai_api_key,\n",
    ")\n",
    "\n",
    "# print(client.models.list()) # Выведет все возможные модели от OpenAI, которые можно указать в параметре model"
   ]
  },
  {
   "cell_type": "code",
   "execution_count": 13,
   "id": "cbc957ce-4381-4574-8fd9-87d003d7d84b",
   "metadata": {},
   "outputs": [
    {
     "name": "stdout",
     "output_type": "stream",
     "text": [
      "2\n"
     ]
    }
   ],
   "source": [
    "from openai import OpenAI\n",
    "\n",
    "client = OpenAI(\n",
    "    # defaults to os.environ.get(\"OPENAI_API_KEY\")\n",
    "    api_key=openai_api_key,\n",
    ")\n",
    "messages = [\n",
    "    {\n",
    "        \"role\": \"user\",  # Роль - ассистент или юзер\n",
    "        \"content\": \"1+1\",  # Сам промпт для подачи в chatGPT\n",
    "    }\n",
    "]\n",
    "\n",
    "chat_completion = client.chat.completions.create(\n",
    "    max_tokens=100,\n",
    "    model=\"gpt-3.5-turbo\",  # модель для выбора\n",
    "    messages=messages,  # сообщение\n",
    "    temperature=0,  # степень креативности ответа\n",
    ")\n",
    "\n",
    "print(chat_completion.choices[0].message.content)"
   ]
  },
  {
   "cell_type": "code",
   "execution_count": null,
   "id": "4a727448-48a0-40ef-bd95-67b6436e34e0",
   "metadata": {},
   "outputs": [],
   "source": []
  }
 ],
 "metadata": {
  "kernelspec": {
   "display_name": "rag_env",
   "language": "python",
   "name": "rag_env"
  },
  "language_info": {
   "codemirror_mode": {
    "name": "ipython",
    "version": 3
   },
   "file_extension": ".py",
   "mimetype": "text/x-python",
   "name": "python",
   "nbconvert_exporter": "python",
   "pygments_lexer": "ipython3",
   "version": "3.11.0rc2"
  }
 },
 "nbformat": 4,
 "nbformat_minor": 5
}
